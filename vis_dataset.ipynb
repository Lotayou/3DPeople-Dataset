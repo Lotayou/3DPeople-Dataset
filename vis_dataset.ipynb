{
 "cells": [
  {
   "cell_type": "markdown",
   "metadata": {},
   "source": [
    "## Requirements:\n",
    "```\n",
    "conda create -n 3dpeople\n",
    "source activate 3dpeople\n",
    "conda install matplotlib opencv pillow scipy\n",
    "conda install -c conda-forge ipywidgets=7.2.1\n",
    "conda install -c plotly chart-studio\n",
    "```\n"
   ]
  },
  {
   "cell_type": "markdown",
   "metadata": {},
   "source": [
    "## Select Sequence to Visualize:"
   ]
  },
  {
   "cell_type": "code",
   "execution_count": null,
   "metadata": {},
   "outputs": [],
   "source": [
    "import numpy as np\n",
    "from PIL import Image\n",
    "from IPython.display import display\n",
    "import scipy.io\n",
    "from scipy.interpolate import interp2d\n",
    "from ipywidgets import interact, widgets\n",
    "import matplotlib.pyplot as plt\n",
    "import matplotlib.cm as colors\n",
    "from plotly.offline import init_notebook_mode, iplot\n",
    "import plotly.graph_objects as go\n",
    "import os\n",
    "import glob\n",
    "import gc\n",
    "import cv2\n",
    "\n",
    "%matplotlib inline\n",
    "\n",
    "seq_name = 'woman17/02_04_jump'"
   ]
  },
  {
   "cell_type": "markdown",
   "metadata": {},
   "source": [
    "# Display Utils"
   ]
  },
  {
   "cell_type": "code",
   "execution_count": null,
   "metadata": {},
   "outputs": [],
   "source": [
    "def display_imgs(imgs, title, cmap):\n",
    "    num_cameras = len(imgs)\n",
    "    def display_frame(frame_id):\n",
    "        fig, axs = plt.subplots(1, num_cameras, figsize=(24,16))\n",
    "        for camera_id in range(num_cameras):\n",
    "            img = imgs[camera_id][frame_id]\n",
    "            axs[camera_id].imshow(img, cmap=cmap)\n",
    "            axs[camera_id].set_title(f'Camera {camera_id+1}',fontsize=20)\n",
    "        axs[0].set_ylabel(title,fontsize=30)\n",
    "    return display_frame\n",
    "\n",
    "def generate_img_skeleton2d(orig_imgs, skeletons):\n",
    "    if orig_imgs is None or skeletons is None:\n",
    "        return None\n",
    "    joints = skeletons[...,:2]\n",
    "    num_cams, num_frames, num_joints, _ = joints.shape\n",
    "    imgs = orig_imgs.copy()\n",
    "    color_map = colors.get_cmap('Spectral')\n",
    "    for camera_id in range(num_cams):\n",
    "        for frame_id in range(num_frames):\n",
    "            img = imgs[camera_id, frame_id, ...]\n",
    "            for joint_id in range(num_joints):\n",
    "                joint = tuple(joints[camera_id, frame_id, joint_id].astype(int))\n",
    "                img = cv2.circle(img, joint, 2, np.array(color_map(joint_id/num_joints))*255, 2)\n",
    "    return imgs\n",
    "\n",
    "def display_skeleton3d(skeletons, camera_id, frame_id):\n",
    "    init_notebook_mode(connected=True) \n",
    "    fig = go.Scatter3d(x=skeletons[camera_id, frame_id, :, -3], \n",
    "                       y=skeletons[camera_id, frame_id, :, -2], \n",
    "                       z=skeletons[camera_id, frame_id, :, -1],\n",
    "                       mode='markers')\n",
    "    data = [fig]\n",
    "    iplot(data) \n",
    "\n",
    "def combine_imgs(img1, img2, alpha=0.5):\n",
    "    if img1 is not None and img2 is not None:\n",
    "        return ((1-alpha) * img1 + alpha * img2).astype(img1.dtype)\n",
    "\n",
    "def interactive_display(imgs, frame_id, title, **kwargs):\n",
    "    if imgs is not None:\n",
    "        kwargs.setdefault(\"cmap\", None)        \n",
    "        display_frame = display_imgs(imgs, title, kwargs[\"cmap\"])\n",
    "        interact(display_frame, frame_id=frame_id)"
   ]
  },
  {
   "cell_type": "markdown",
   "metadata": {},
   "source": [
    "# Read Data Utils"
   ]
  },
  {
   "cell_type": "code",
   "execution_count": null,
   "metadata": {},
   "outputs": [],
   "source": [
    "def read_samples(cameras_dir, read_f, num_cameras=4):\n",
    "    cameras = []\n",
    "    for camera_id in range(1, num_cameras+1):\n",
    "        camera_path = os.path.join(cameras_dir, f'camera{camera_id:02d}')\n",
    "        camera_data = read_f(camera_path)\n",
    "        if camera_data is None:\n",
    "            return None\n",
    "        cameras.append(np.asarray(camera_data))\n",
    "        gc.collect() \n",
    "    return np.asarray(cameras)\n",
    "\n",
    "def read_rgbs(files_dir):\n",
    "    rgbs_path = os.path.join(files_dir, '*', '*.jpg')\n",
    "    files = glob.glob(rgbs_path)\n",
    "    if files:\n",
    "        return [np.asarray(Image.open(file)) for file in sorted(files)]\n",
    "\n",
    "def read_depths(files_dir):\n",
    "    file = os.path.join(files_dir, 'depth.mat')\n",
    "    if os.path.exists(file):\n",
    "        depth = scipy.io.loadmat(file)\n",
    "        return [v for k, v in sorted(depth.items()) if k.startswith('depth')]\n",
    "\n",
    "def read_normals(files_dir):\n",
    "    file = os.path.join(files_dir, 'normals.mat')\n",
    "    if os.path.exists(file):\n",
    "        normals = scipy.io.loadmat(file)\n",
    "        return [v/2+0.5 for k, v in sorted(normals.items()) if k.startswith('normals')]\n",
    "\n",
    "def read_optical_flow(files_dir):\n",
    "    file = os.path.join(files_dir, 'optical_flow.mat')\n",
    "    if os.path.exists(file):\n",
    "        flow = scipy.io.loadmat(file)\n",
    "        return [v for k, v in sorted(flow.items()) if k.startswith('gtflow')]\n",
    "\n",
    "def read_segmentation(files_dir):\n",
    "    segmentation_path = os.path.join(files_dir,'*.png')\n",
    "    files = glob.glob(segmentation_path)\n",
    "    if files:\n",
    "        return [np.asarray(Image.open(file).convert('RGB')) for file in sorted(files)]\n",
    "\n",
    "def read_skeleton(files_dir):\n",
    "    skeleton_path = os.path.join(files_dir,'*.txt')\n",
    "    files = glob.glob(skeleton_path)\n",
    "    if files:\n",
    "        files.sort()\n",
    "        if os.path.basename(files[0]) == \"0000.txt\":\n",
    "            files = files[1:]\n",
    "        return [np.loadtxt(file) for file in files]"
   ]
  },
  {
   "cell_type": "markdown",
   "metadata": {},
   "source": [
    "# Display"
   ]
  },
  {
   "cell_type": "code",
   "execution_count": null,
   "metadata": {},
   "outputs": [],
   "source": [
    "# Read data\n",
    "rgbs = read_samples(os.path.join('rgb',seq_name), read_rgbs)\n",
    "depths = read_samples(os.path.join('depth_mat',seq_name), read_depths)\n",
    "normals = read_samples(os.path.join('normals_mat',seq_name), read_normals)\n",
    "flows = read_samples(os.path.join('optical_flow_mat',seq_name), read_optical_flow)\n",
    "seg_body = read_samples(os.path.join('segmentation_body',seq_name), read_segmentation)\n",
    "seg_cloth = read_samples(os.path.join('segmentation_clothes',seq_name), read_segmentation)\n",
    "skeletons = read_samples(os.path.join('skeleton',seq_name), read_skeleton)"
   ]
  },
  {
   "cell_type": "code",
   "execution_count": null,
   "metadata": {},
   "outputs": [],
   "source": [
    "# Create Slider\n",
    "elems = [rgbs, depths, normals, flows, seg_body, seg_cloth, skeletons]\n",
    "try:\n",
    "    num_frames = next(item for item in elems if item is not None).shape[1]\n",
    "    frame_id = widgets.IntSlider(min=0,max=num_frames-1)\n",
    "except StopIteration as e:\n",
    "    frame_id = 0\n",
    "    print(\"No data found\")"
   ]
  },
  {
   "cell_type": "code",
   "execution_count": null,
   "metadata": {
    "scrolled": false
   },
   "outputs": [],
   "source": [
    "flows_u = flows[...,0] if flows is not None else None\n",
    "flows_v = flows[...,1] if flows is not None else None\n",
    "normals_rgb = (normals*255).astype(rgbs.dtype) if normals is not None else None\n",
    "\n",
    "# Display data\n",
    "interactive_display(rgbs, frame_id, \"RGB\")\n",
    "interactive_display(generate_img_skeleton2d(rgbs, skeletons), frame_id, \"Joints\")\n",
    "interactive_display(depths, frame_id, \"Depth\", cmap='gray_r')\n",
    "interactive_display(flows_u, frame_id, \"Optical Flow U\")\n",
    "interactive_display(flows_v, frame_id, \"Optical Flow V\")\n",
    "interactive_display(combine_imgs(rgbs, normals_rgb), frame_id, \"Normals\")\n",
    "interactive_display(combine_imgs(rgbs, seg_body), frame_id, \"Body Segmentation\")\n",
    "interactive_display(combine_imgs(rgbs, seg_cloth), frame_id, \"Cloth Segmentation\")"
   ]
  },
  {
   "cell_type": "code",
   "execution_count": null,
   "metadata": {},
   "outputs": [],
   "source": [
    "if skeletons is not None:\n",
    "    display_skeleton3d(skeletons, 0, 0)"
   ]
  },
  {
   "cell_type": "markdown",
   "metadata": {},
   "source": [
    "# Transform Optical Flow"
   ]
  },
  {
   "cell_type": "code",
   "execution_count": null,
   "metadata": {},
   "outputs": [],
   "source": [
    "def transf_flow(rgb, flow):\n",
    "    '''Ex use: transf_flow(rgbs[0,0,...], flows[0,1,...]) transforms rgbs[0,0,...] to rgbs[0,1,...]'''\n",
    "    h, w = flow.shape[-3:-1]\n",
    "    flow_cp = np.zeros_like(flow)\n",
    "    flow_cp[...,0] = (flow[...,0]+np.arange(w))\n",
    "    flow_cp[...,1] = (-flow[...,1]+np.arange(h)[:,np.newaxis])\n",
    "    res = cv2.remap(rgb, flow_cp, None, cv2.INTER_LINEAR) * (flow[...,0:1]!=0)\n",
    "    return res\n",
    "\n",
    "if flows is not None:\n",
    "    id=5\n",
    "    res = transf_flow(rgbs[0,id-1,...], flows[0,id,...])\n",
    "    f, axs = plt.subplots(1,5, figsize=(24,16))\n",
    "    axs[0].imshow(rgbs[0,id-1,...])\n",
    "    axs[0].set_title(f'Frame {id-1}',fontsize=20)\n",
    "    axs[1].imshow(rgbs[0,id,...])\n",
    "    axs[1].set_title(f'Frame {id}',fontsize=20)\n",
    "    axs[2].imshow(res)\n",
    "    axs[2].set_title(f'Frame {id} estim',fontsize=20)\n",
    "    axs[3].imshow(flows[0,id,...,0])\n",
    "    axs[3].set_title('Flow u',fontsize=20)\n",
    "    axs[4].imshow(flows[0,id,...,1])\n",
    "    axs[4].set_title('Flow v',fontsize=20)"
   ]
  }
 ],
 "metadata": {
  "kernelspec": {
   "display_name": "Python 3",
   "language": "python",
   "name": "python3"
  },
  "language_info": {
   "codemirror_mode": {
    "name": "ipython",
    "version": 3
   },
   "file_extension": ".py",
   "mimetype": "text/x-python",
   "name": "python",
   "nbconvert_exporter": "python",
   "pygments_lexer": "ipython3",
   "version": "3.6.7"
  }
 },
 "nbformat": 4,
 "nbformat_minor": 2
}
